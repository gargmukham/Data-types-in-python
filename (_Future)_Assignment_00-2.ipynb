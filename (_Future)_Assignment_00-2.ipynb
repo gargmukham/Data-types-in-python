{
  "cells": [
    {
      "cell_type": "markdown",
      "metadata": {
        "id": "AK6W-ogFdzK7"
      },
      "source": [
        "#**Assignment - 02**"
      ]
    },
    {
      "cell_type": "markdown",
      "metadata": {
        "id": "pKITMxXZeWrg"
      },
      "source": [
        "#**Data types in python**\n",
        "In Python, a data type is a way to classify the kind of data that a variable can hold. It tells the Python interpreter how to handle and manipulate the data. Here's a breakdown of some of the most common data types in Python:\n",
        "\n",
        "1. Numeric Types\n",
        "\n",
        "     int: Represents whole numbers (e.g., -10, 0, 5).\n",
        "   \n",
        "   float: Represents numbers with decimal points (e.g., 3.14, -2.5).\n",
        "     \n",
        "      complex: Represents complex numbers (e.g., 2 + 3j).\n",
        "2. Sequence Types\n",
        "\n",
        "  str: Represents text as a sequence of characters (e.g., \"hello\", 'Python').\n",
        "\n",
        " list: Represents an ordered, mutable sequence of items (e.g., [1, 2, 3], [\"apple\", \"banana\"]).\n",
        "\n",
        " tuple: Represents an ordered, immutable sequence of items (e.g., (1, 2, 3), (\"apple\", \"banana\")).\n",
        "\n",
        " range: Represents a sequence of numbers within a given range.\n",
        "3. Mapping Type\n",
        "\n",
        " dict: Represents a collection of key-value pairs (e.g., {\"name\": \"Alice\", \"age\": 30}).\n",
        "4. Boolean Type\n",
        "\n",
        " bool: Represents either True or False.\n",
        "5. Set Types\n",
        "\n",
        " set: Represents an unordered collection of unique items.\n",
        "frozenset: Represents an immutable version of a set."
      ]
    },
    {
      "cell_type": "markdown",
      "metadata": {
        "id": "6ufYUZqn84SX"
      },
      "source": [
        "#**Int**"
      ]
    },
    {
      "cell_type": "markdown",
      "metadata": {
        "id": "KuaZ-qYTi1HA"
      },
      "source": [
        "#**Basic Arithmetic**"
      ]
    },
    {
      "cell_type": "code",
      "execution_count": null,
      "metadata": {
        "colab": {
          "base_uri": "https://localhost:8080/"
        },
        "id": "-ZNF4npFh-0x",
        "outputId": "03dde43d-ac35-47b1-d5f0-9380f7b44c15"
      },
      "outputs": [
        {
          "name": "stdout",
          "output_type": "stream",
          "text": [
            "13\n",
            "7\n",
            "30\n",
            "3.3333333333333335\n",
            "3\n",
            "1\n",
            "1000\n",
            "5\n",
            "8\n",
            "3\n"
          ]
        }
      ],
      "source": [
        "x = 10\n",
        "y = 3\n",
        "\n",
        "print(x + y)  # Output: 13 (Addition)\n",
        "print(x - y)  # Output: 7 (Subtraction)\n",
        "print(x * y)  # Output: 30 (Multiplication)\n",
        "print(x / y)  # Output: 3.3333333333333335 (True division - always float)\n",
        "print(x // y)  # Output: 3 (Floor division - integer part)\n",
        "print(x % y)  # Output: 1 (Modulo - remainder)\n",
        "print(x ** y)  # Output: 1000 (Exponentiation)\n",
        "\n",
        "z = -5\n",
        "print(abs(z)) # Output: 5 (Absolute Value)\n",
        "\n",
        "print(pow(2, 3))    # Output: 8 (2 raised to the power of 3)\n",
        "print(pow(2, 3, 5)) # Output: 3 ((2**3) % 5)"
      ]
    },
    {
      "cell_type": "markdown",
      "metadata": {
        "id": "b-oR7u3RjIpz"
      },
      "source": [
        "#**Bitwise Operations:**"
      ]
    },
    {
      "cell_type": "code",
      "execution_count": null,
      "metadata": {
        "colab": {
          "base_uri": "https://localhost:8080/"
        },
        "id": "21mrffNhiEtp",
        "outputId": "46aab969-e534-46c0-b69e-7271ced01e65"
      },
      "outputs": [
        {
          "name": "stdout",
          "output_type": "stream",
          "text": [
            "1\n",
            "7\n",
            "6\n",
            "10\n",
            "2\n",
            "-6\n"
          ]
        }
      ],
      "source": [
        "a = 5  # Binary: 0101\n",
        "b = 3  # Binary: 0011\n",
        "\n",
        "print(a & b)  # Output: 1 (Bitwise AND: 0001)\n",
        "print(a | b)  # Output: 7 (Bitwise OR: 0111)\n",
        "print(a ^ b)  # Output: 6 (Bitwise XOR: 0110)\n",
        "print(a << 1)  # Output: 10 (Left shift: 1010)\n",
        "print(a >> 1)  # Output: 2 (Right shift: 0010)\n",
        "print(~a)      # Output: -6 (Bitwise NOT: Inverts bits and adds 1, represented in two's complement)"
      ]
    },
    {
      "cell_type": "markdown",
      "metadata": {
        "id": "G2RhmA1RjysO"
      },
      "source": [
        "#**Comparison Operations:**"
      ]
    },
    {
      "cell_type": "code",
      "execution_count": null,
      "metadata": {
        "colab": {
          "base_uri": "https://localhost:8080/"
        },
        "id": "pXhn4oJ0iI9V",
        "outputId": "6f2736a4-a2f1-4ed3-a86b-9662dfb09c01"
      },
      "outputs": [
        {
          "name": "stdout",
          "output_type": "stream",
          "text": [
            "True\n",
            "True\n",
            "True\n",
            "False\n",
            "True\n",
            "False\n"
          ]
        }
      ],
      "source": [
        "p = 7\n",
        "q = 7\n",
        "r = 9\n",
        "\n",
        "print(p == q)  # Output: True (Equal to)\n",
        "print(p != r)  # Output: True (Not equal to)\n",
        "print(p < r)   # Output: True (Less than)\n",
        "print(p > r)   # Output: False (Greater than)\n",
        "print(p <= q)  # Output: True (Less than or equal to)\n",
        "print(p >= r)  # Output: False (Greater than or equal to)"
      ]
    },
    {
      "cell_type": "markdown",
      "metadata": {
        "id": "WYEm1lzxj7kB"
      },
      "source": [
        "#**Constructor and Related:**"
      ]
    },
    {
      "cell_type": "code",
      "execution_count": null,
      "metadata": {
        "colab": {
          "base_uri": "https://localhost:8080/"
        },
        "id": "Dh4gtlyxiVXK",
        "outputId": "311eeec8-24d5-4042-b739-5b999200a39d"
      },
      "outputs": [
        {
          "name": "stdout",
          "output_type": "stream",
          "text": [
            "123\n",
            "3\n",
            "5\n",
            "b'\\x01\\x02'\n",
            "258\n",
            "7\n",
            "8\n",
            "0\n"
          ]
        }
      ],
      "source": [
        "# Converting to integer\n",
        "print(int(\"123\"))\n",
        "print(int(3.14))\n",
        "print(int(\"101\", 2))\n",
        "\n",
        "# Bytes conversion\n",
        "my_int = 258\n",
        "byte_representation = my_int.to_bytes(2, 'big') # 2 bytes, big-endian\n",
        "print(byte_representation)\n",
        "\n",
        "int_from_bytes = int.from_bytes(byte_representation, 'big')\n",
        "print(int_from_bytes)\n",
        "\n",
        "# bit_length()\n",
        "n = 127 # Binary 01111111\n",
        "print(n.bit_length())\n",
        "\n",
        "n = 128 # Binary 10000000\n",
        "print(n.bit_length())\n",
        "\n",
        "n = 0\n",
        "print(n.bit_length())"
      ]
    },
    {
      "cell_type": "markdown",
      "metadata": {
        "id": "qhWNguLxkHR8"
      },
      "source": [
        "#**Immutability in Action:**"
      ]
    },
    {
      "cell_type": "code",
      "execution_count": null,
      "metadata": {
        "colab": {
          "base_uri": "https://localhost:8080/"
        },
        "id": "ml3ugxYKisu-",
        "outputId": "970b1f36-9899-40c9-ed36-97716e321e18"
      },
      "outputs": [
        {
          "name": "stdout",
          "output_type": "stream",
          "text": [
            "5\n",
            "7\n",
            "7\n"
          ]
        }
      ],
      "source": [
        "x = 5\n",
        "y = x + 2  # A new integer object (7) is created. x is not changed\n",
        "print(x)    # Output: 5 (x remains 5)\n",
        "print(y)    # Output: 7 (y is 7)\n",
        "\n",
        "x = x + 2  # Now x is reassigned to the new integer object\n",
        "print(x)"
      ]
    },
    {
      "cell_type": "markdown",
      "metadata": {
        "id": "I015yuCS9csT"
      },
      "source": [
        "#**float**"
      ]
    },
    {
      "cell_type": "markdown",
      "metadata": {
        "id": "YcExf8DA-INK"
      },
      "source": [
        "#**In Python, the float class provides several useful methods. Here are all the methods available for a float object:**\n",
        "\n",
        "#**1. as_integer_ratio()**\n",
        "Returns a pair of integers whose ratio is exactly equal to the float.\n",
        "\n",
        " example\n"
      ]
    },
    {
      "cell_type": "code",
      "execution_count": null,
      "metadata": {
        "colab": {
          "base_uri": "https://localhost:8080/"
        },
        "id": "opXDcTWy9vVl",
        "outputId": "41dc1242-efb7-4899-9d8e-d4f9c43059d5"
      },
      "outputs": [
        {
          "name": "stdout",
          "output_type": "stream",
          "text": [
            "(7, 2)\n"
          ]
        }
      ],
      "source": [
        "num = 3.5\n",
        "print(num.as_integer_ratio())\n"
      ]
    },
    {
      "cell_type": "markdown",
      "metadata": {
        "id": "3wC4OZb8-3yw"
      },
      "source": [
        "#**2.Conjugate()**\n",
        "Returns the complex conjugate of the float. Since float is a real number, it returns the same value.\n",
        "Example:\n"
      ]
    },
    {
      "cell_type": "code",
      "execution_count": null,
      "metadata": {
        "colab": {
          "base_uri": "https://localhost:8080/"
        },
        "id": "tkj3_2jw-9PE",
        "outputId": "65da3243-1862-413b-a2ee-80a0989d2cbb"
      },
      "outputs": [
        {
          "name": "stdout",
          "output_type": "stream",
          "text": [
            "4.2\n"
          ]
        }
      ],
      "source": [
        "num = 4.2\n",
        "print(num.conjugate())"
      ]
    },
    {
      "cell_type": "markdown",
      "metadata": {
        "id": "yky87ffU_tHe"
      },
      "source": [
        "#**3. fromhex(s) (Class Method)**\n",
        "Converts a hexadecimal string to a floating-point number.\n",
        "Example:\n"
      ]
    },
    {
      "cell_type": "code",
      "execution_count": null,
      "metadata": {
        "colab": {
          "base_uri": "https://localhost:8080/"
        },
        "id": "UQOUmoX__7uW",
        "outputId": "086c615b-6a0c-473a-e48c-c2c5e5d01b7b"
      },
      "outputs": [
        {
          "name": "stdout",
          "output_type": "stream",
          "text": [
            "0.1\n"
          ]
        }
      ],
      "source": [
        "num = float.fromhex('0x1.999999999999ap-4')\n",
        "print(num)\n"
      ]
    },
    {
      "cell_type": "markdown",
      "metadata": {
        "id": "1auzpERTACom"
      },
      "source": [
        "#**4. hex()**\n",
        "Returns the hexadecimal representation of the float.\n",
        "\n",
        "Example:\n"
      ]
    },
    {
      "cell_type": "code",
      "execution_count": null,
      "metadata": {
        "colab": {
          "base_uri": "https://localhost:8080/"
        },
        "id": "je-v13UlAQY9",
        "outputId": "bd142797-b5d4-4386-b769-cd0b59262df0"
      },
      "outputs": [
        {
          "name": "stdout",
          "output_type": "stream",
          "text": [
            "0x1.999999999999ap-4\n"
          ]
        }
      ],
      "source": [
        "num = 0.1\n",
        "print(num.hex())\n"
      ]
    },
    {
      "cell_type": "markdown",
      "metadata": {
        "id": "dyZgm3H-AtXl"
      },
      "source": [
        "#**5. is_integer()**\n",
        "Returns True if the float represents an integer value (e.g., 4.0), otherwise False.\n",
        "Example:"
      ]
    },
    {
      "cell_type": "code",
      "execution_count": null,
      "metadata": {
        "colab": {
          "base_uri": "https://localhost:8080/"
        },
        "id": "kVV_rkGLA42I",
        "outputId": "dd8e28d1-b6de-4750-cbf7-ae923f8c6a20"
      },
      "outputs": [
        {
          "name": "stdout",
          "output_type": "stream",
          "text": [
            "True\n",
            "False\n"
          ]
        }
      ],
      "source": [
        "num1 = 4.0\n",
        "num2 = 3.5\n",
        "print(num1.is_integer())\n",
        "print(num2.is_integer())\n"
      ]
    },
    {
      "cell_type": "markdown",
      "metadata": {
        "id": "nUByAb-6tQKL"
      },
      "source": [
        "#**6. __abs__()**\n",
        "Returns the absolute value of the float.\n",
        "\n",
        "Example:\n"
      ]
    },
    {
      "cell_type": "code",
      "execution_count": null,
      "metadata": {
        "colab": {
          "base_uri": "https://localhost:8080/"
        },
        "id": "Wy7Z03NqtaQe",
        "outputId": "9846f7e2-6a8a-41f9-f6fe-cef22eb4da2f"
      },
      "outputs": [
        {
          "name": "stdout",
          "output_type": "stream",
          "text": [
            "7.5\n"
          ]
        }
      ],
      "source": [
        "num = -7.5\n",
        "print(abs(num))\n"
      ]
    },
    {
      "cell_type": "markdown",
      "metadata": {
        "id": "ShpQHC69ttKw"
      },
      "source": [
        "#**7. __round__(n)**\n",
        "Rounds the float to n decimal places.\n",
        "\n",
        "Example:\n",
        "\n"
      ]
    },
    {
      "cell_type": "code",
      "execution_count": null,
      "metadata": {
        "colab": {
          "base_uri": "https://localhost:8080/"
        },
        "id": "-cVF0-GSt6Um",
        "outputId": "f5ac6546-6e54-43a8-b734-8df25c5b4de3"
      },
      "outputs": [
        {
          "name": "stdout",
          "output_type": "stream",
          "text": [
            "3.14\n"
          ]
        }
      ],
      "source": [
        "num = 3.14159\n",
        "print(round(num, 2))"
      ]
    },
    {
      "cell_type": "markdown",
      "metadata": {
        "id": "WBLKgl0lunt1"
      },
      "source": [
        "#**In Python, the complex class provides several useful methods for working with complex numbers. Here are the built-in methods of the complex type:**\n",
        "\n",
        "#**1. conjugate()**\n",
        "Returns the complex conjugate of the number.\n",
        "\n",
        "Example:\n"
      ]
    },
    {
      "cell_type": "code",
      "execution_count": null,
      "metadata": {
        "colab": {
          "base_uri": "https://localhost:8080/"
        },
        "id": "ncVjufReu4JY",
        "outputId": "899d7994-74e4-4b4f-b3b9-56b960f13e18"
      },
      "outputs": [
        {
          "name": "stdout",
          "output_type": "stream",
          "text": [
            "(3-4j)\n"
          ]
        }
      ],
      "source": [
        "num = 3 + 4j\n",
        "print(num.conjugate())"
      ]
    },
    {
      "cell_type": "markdown",
      "metadata": {
        "id": "KAv3jYPs-3mn"
      },
      "source": [
        "#**2. real (Property)**\n",
        "Returns the real part of the complex number.\n",
        "Example:"
      ]
    },
    {
      "cell_type": "code",
      "execution_count": null,
      "metadata": {
        "colab": {
          "base_uri": "https://localhost:8080/"
        },
        "id": "UKwRy9GivDzo",
        "outputId": "3d4d0c13-246d-4db3-9716-3cfffbe844ad"
      },
      "outputs": [
        {
          "name": "stdout",
          "output_type": "stream",
          "text": [
            "5.0\n"
          ]
        }
      ],
      "source": [
        "num = 5 + 6j\n",
        "print(num.real)"
      ]
    },
    {
      "cell_type": "markdown",
      "metadata": {
        "id": "c6tvNZcLvPd4"
      },
      "source": [
        "#**3. imag (Property)**\n",
        "Returns the imaginary part of the complex number.\n",
        "\n",
        "Example:\n"
      ]
    },
    {
      "cell_type": "code",
      "execution_count": null,
      "metadata": {
        "colab": {
          "base_uri": "https://localhost:8080/"
        },
        "id": "TiCYLawnvXDA",
        "outputId": "c1c5f4b9-d06f-47ad-db20-f9ac26fb76eb"
      },
      "outputs": [
        {
          "name": "stdout",
          "output_type": "stream",
          "text": [
            "6.0\n"
          ]
        }
      ],
      "source": [
        "num = 5 + 6j\n",
        "print(num.imag)"
      ]
    },
    {
      "cell_type": "markdown",
      "metadata": {
        "id": "s7C71TqcvoXd"
      },
      "source": [
        "#**Additional Operations (Using cmath Module)**\n",
        "Python provides the cmath module for advanced mathematical operations with complex numbers. Some useful functions:\n",
        "\n",
        "#**1.cmath.phase(z) - Returns the phase (angle) of a complex number.**\n",
        "\n"
      ]
    },
    {
      "cell_type": "code",
      "execution_count": null,
      "metadata": {
        "colab": {
          "base_uri": "https://localhost:8080/"
        },
        "id": "ohuI4KHivyAl",
        "outputId": "1a1fb239-ac36-420b-9ae9-126ea8169b4a"
      },
      "outputs": [
        {
          "name": "stdout",
          "output_type": "stream",
          "text": [
            "0.7853981633974483\n"
          ]
        }
      ],
      "source": [
        "import cmath\n",
        "num = 1 + 1j\n",
        "print(cmath.phase(num))"
      ]
    },
    {
      "cell_type": "markdown",
      "metadata": {
        "id": "GCaHZf0Gv48v"
      },
      "source": [
        "#**2.cmath.polar(z) - Converts a complex number to polar coordinates.**"
      ]
    },
    {
      "cell_type": "code",
      "execution_count": null,
      "metadata": {
        "colab": {
          "base_uri": "https://localhost:8080/"
        },
        "id": "3vLbOagqv7Zn",
        "outputId": "c026929a-bc45-4beb-f44a-918fba7a9c05"
      },
      "outputs": [
        {
          "name": "stdout",
          "output_type": "stream",
          "text": [
            "(1.4142135623730951, 0.7853981633974483)\n"
          ]
        }
      ],
      "source": [
        "print(cmath.polar(1 + 1j))\n"
      ]
    },
    {
      "cell_type": "markdown",
      "metadata": {
        "id": "LCmP72JswESy"
      },
      "source": [
        "#**3.cmath.rect(r, phi) - Converts polar coordinates back to a complex number.**\n",
        "\n"
      ]
    },
    {
      "cell_type": "code",
      "execution_count": null,
      "metadata": {
        "colab": {
          "base_uri": "https://localhost:8080/"
        },
        "id": "4TRNPSRlwTTk",
        "outputId": "1f1b89d9-0690-4594-a41a-fff9a4b8913b"
      },
      "outputs": [
        {
          "name": "stdout",
          "output_type": "stream",
          "text": [
            "(1.0002470126024203+0.9994508060829874j)\n"
          ]
        }
      ],
      "source": [
        "print(cmath.rect(1.414, 0.785))"
      ]
    },
    {
      "cell_type": "markdown",
      "metadata": {
        "id": "mVgF6Lxewl8I"
      },
      "source": [
        "#**4.cmath.exp(z) - Returns e^z for a complex number.**"
      ]
    },
    {
      "cell_type": "code",
      "execution_count": null,
      "metadata": {
        "colab": {
          "base_uri": "https://localhost:8080/"
        },
        "id": "ibYKGYALwtoP",
        "outputId": "58765774-53bd-4d38-8379-15b6e5d54943"
      },
      "outputs": [
        {
          "name": "stdout",
          "output_type": "stream",
          "text": [
            "(0.5403023058681398+0.8414709848078965j)\n"
          ]
        }
      ],
      "source": [
        "print(cmath.exp(1j))"
      ]
    },
    {
      "cell_type": "markdown",
      "metadata": {
        "id": "pEdNgQIdw11u"
      },
      "source": [
        "#**5.cmath.log(z) - Returns the natural logarithm of a complex number.**"
      ]
    },
    {
      "cell_type": "code",
      "execution_count": null,
      "metadata": {
        "colab": {
          "base_uri": "https://localhost:8080/"
        },
        "id": "Nvon0mNkw7Be",
        "outputId": "803e40a7-af54-4e7c-a98f-1ff4e7d8bbce"
      },
      "outputs": [
        {
          "name": "stdout",
          "output_type": "stream",
          "text": [
            "(1.2824746787307684+0.982793723247329j)\n"
          ]
        }
      ],
      "source": [
        "print(cmath.log(2 + 3j))"
      ]
    },
    {
      "cell_type": "markdown",
      "metadata": {
        "id": "SDJ0UCGNxFBL"
      },
      "source": [
        "#**6.cmath.sqrt(z) - Returns the square root of a complex number.**"
      ]
    },
    {
      "cell_type": "code",
      "execution_count": null,
      "metadata": {
        "colab": {
          "base_uri": "https://localhost:8080/"
        },
        "id": "RyX-mVxxxL16",
        "outputId": "df59394d-19d7-47f3-99fb-9e895b9de3cc"
      },
      "outputs": [
        {
          "name": "stdout",
          "output_type": "stream",
          "text": [
            "1j\n"
          ]
        }
      ],
      "source": [
        "print(cmath.sqrt(-1))"
      ]
    },
    {
      "cell_type": "markdown",
      "metadata": {
        "id": "civSdHGzycOO"
      },
      "source": [
        "#**Sequence types methods**\n",
        "In Python, sequence types include list, tuple, str, bytes, bytearray, and range. These sequence types support common methods. Below is a list of important sequence type methods along with code\n",
        " examples.\n",
        "#**1. Common Sequence Methods (list, tuple, str, etc.)**\n",
        "These methods work on multiple sequence types, such as lists, tuples, and strings.\n",
        "\n",
        "1.1 len() - Get Length of Sequence\n",
        "Returns the number of elements in the sequence.\n",
        "Example"
      ]
    },
    {
      "cell_type": "code",
      "execution_count": null,
      "metadata": {
        "colab": {
          "base_uri": "https://localhost:8080/"
        },
        "id": "0PMx00pTy9x1",
        "outputId": "8e95938f-5a74-466d-c407-c68c1b053a59"
      },
      "outputs": [
        {
          "name": "stdout",
          "output_type": "stream",
          "text": [
            "3\n"
          ]
        }
      ],
      "source": [
        "my_list = [10, 20, 30]\n",
        "print(len(my_list))"
      ]
    },
    {
      "cell_type": "markdown",
      "metadata": {
        "id": "RefVRkU5zHA9"
      },
      "source": [
        "#**1.2 min() & max() - Find Minimum & Maximum**\n",
        "Returns the smallest/largest element in the sequence.\n",
        "\n",
        "Example:\n"
      ]
    },
    {
      "cell_type": "code",
      "execution_count": null,
      "metadata": {
        "colab": {
          "base_uri": "https://localhost:8080/"
        },
        "id": "CS8bAq7gzOld",
        "outputId": "f6956955-927f-4176-ad3a-0d5f75c97a28"
      },
      "outputs": [
        {
          "name": "stdout",
          "output_type": "stream",
          "text": [
            "1\n",
            "9\n"
          ]
        }
      ],
      "source": [
        "nums = [4, 7, 1, 9]\n",
        "print(min(nums))\n",
        "print(max(nums))"
      ]
    },
    {
      "cell_type": "markdown",
      "metadata": {
        "id": "S0CHllDYzY0Z"
      },
      "source": [
        "#**1.3 sum() - Get Sum of Elements**\n",
        "Returns the sum of numeric elements in a sequence.\n",
        "\n",
        "Example:"
      ]
    },
    {
      "cell_type": "code",
      "execution_count": null,
      "metadata": {
        "colab": {
          "base_uri": "https://localhost:8080/"
        },
        "id": "wcC1ppz1zeXC",
        "outputId": "58424e1f-661b-461c-eb53-d4c2d3ca6406"
      },
      "outputs": [
        {
          "name": "stdout",
          "output_type": "stream",
          "text": [
            "10\n"
          ]
        }
      ],
      "source": [
        "nums = [1, 2, 3, 4]\n",
        "print(sum(nums))"
      ]
    },
    {
      "cell_type": "markdown",
      "metadata": {
        "id": "LHJtpZPPzmzk"
      },
      "source": [
        "#**1.4 sorted() - Sort Elements**\n",
        "Returns a new sorted list.\n",
        "\n",
        "Example:\n"
      ]
    },
    {
      "cell_type": "code",
      "execution_count": null,
      "metadata": {
        "colab": {
          "base_uri": "https://localhost:8080/"
        },
        "id": "nJO4dXy4zqxy",
        "outputId": "61f62636-e832-48cb-857c-fd99835c8a77"
      },
      "outputs": [
        {
          "name": "stdout",
          "output_type": "stream",
          "text": [
            "[2, 3, 5, 8]\n"
          ]
        }
      ],
      "source": [
        "nums = [5, 2, 8, 3]\n",
        "print(sorted(nums))"
      ]
    },
    {
      "cell_type": "markdown",
      "metadata": {
        "id": "f-OILgqPzvhd"
      },
      "source": [
        "#**1.5 reversed() - Reverse the Sequence**\n",
        "Returns a reversed iterator.\n",
        "\n",
        "Example:"
      ]
    },
    {
      "cell_type": "code",
      "execution_count": null,
      "metadata": {
        "colab": {
          "base_uri": "https://localhost:8080/"
        },
        "id": "KY9d7cb0z4xH",
        "outputId": "a1ba8c98-3c9c-425b-e75b-ad307f926374"
      },
      "outputs": [
        {
          "name": "stdout",
          "output_type": "stream",
          "text": [
            "(3, 2, 1)\n"
          ]
        }
      ],
      "source": [
        "my_tuple = (1, 2, 3)\n",
        "print(tuple(reversed(my_tuple)))"
      ]
    },
    {
      "cell_type": "markdown",
      "metadata": {
        "id": "lBUXLZjp0Fk7"
      },
      "source": [
        "#**2. List-Specific Methods (list)**\n",
        "Lists are mutable, so they have additional methods.\n",
        "\n",
        "2.1 append() - Add an Element to the End\n",
        "\n",
        "Example:"
      ]
    },
    {
      "cell_type": "code",
      "execution_count": null,
      "metadata": {
        "colab": {
          "base_uri": "https://localhost:8080/"
        },
        "id": "8vOjcO9Z0NcF",
        "outputId": "b38b0ac6-6063-4f39-fbf2-8557bff14630"
      },
      "outputs": [
        {
          "name": "stdout",
          "output_type": "stream",
          "text": [
            "[1, 2, 3, 4]\n"
          ]
        }
      ],
      "source": [
        "my_list = [1, 2, 3]\n",
        "my_list.append(4)\n",
        "print(my_list)"
      ]
    },
    {
      "cell_type": "markdown",
      "metadata": {
        "id": "0pxPckrZ0Yt6"
      },
      "source": [
        "#**2.2 extend() - Add Multiple Elements**\n",
        "Example:\n"
      ]
    },
    {
      "cell_type": "code",
      "execution_count": null,
      "metadata": {
        "colab": {
          "base_uri": "https://localhost:8080/"
        },
        "id": "81Xqqk880c0L",
        "outputId": "ee8d46d2-241a-4482-c079-001f4018be1e"
      },
      "outputs": [
        {
          "name": "stdout",
          "output_type": "stream",
          "text": [
            "[1, 2, 3, 4, 5]\n"
          ]
        }
      ],
      "source": [
        "my_list = [1, 2]\n",
        "my_list.extend([3, 4, 5])\n",
        "print(my_list)"
      ]
    },
    {
      "cell_type": "markdown",
      "metadata": {
        "id": "K0QHg1Tt0mrd"
      },
      "source": [
        "#**2.3 insert() - Insert at a Specific Index**\n",
        "Example:"
      ]
    },
    {
      "cell_type": "code",
      "execution_count": null,
      "metadata": {
        "colab": {
          "base_uri": "https://localhost:8080/"
        },
        "id": "PuAQ8wiF0sfz",
        "outputId": "7629c110-0a65-484d-f119-5cdb25cadd2e"
      },
      "outputs": [
        {
          "name": "stdout",
          "output_type": "stream",
          "text": [
            "[1, 2, 3, 4]\n"
          ]
        }
      ],
      "source": [
        "my_list = [1, 3, 4]\n",
        "my_list.insert(1, 2)\n",
        "print(my_list)"
      ]
    },
    {
      "cell_type": "markdown",
      "metadata": {
        "id": "ll5BrWqK05da"
      },
      "source": [
        "#**2.4 remove() - Remove First Occurrence of a Value**\n",
        "Example:\n"
      ]
    },
    {
      "cell_type": "code",
      "execution_count": null,
      "metadata": {
        "colab": {
          "base_uri": "https://localhost:8080/"
        },
        "id": "84YS_K-Q0-Zp",
        "outputId": "8ff4fad4-df99-4afb-88bf-223ee2152bbc"
      },
      "outputs": [
        {
          "name": "stdout",
          "output_type": "stream",
          "text": [
            "[1, 3, 2]\n"
          ]
        }
      ],
      "source": [
        "my_list = [1, 2, 3, 2]\n",
        "my_list.remove(2)\n",
        "print(my_list)"
      ]
    },
    {
      "cell_type": "markdown",
      "metadata": {
        "id": "Dsrp6H6_1GdE"
      },
      "source": [
        "#**2.5 pop() - Remove and Return an Element**\n",
        "Example:\n"
      ]
    },
    {
      "cell_type": "code",
      "execution_count": null,
      "metadata": {
        "colab": {
          "base_uri": "https://localhost:8080/"
        },
        "id": "TUxEXU-Z1KkR",
        "outputId": "bffe709a-b57b-448d-b0e2-a4025e78bfc0"
      },
      "outputs": [
        {
          "name": "stdout",
          "output_type": "stream",
          "text": [
            "20\n",
            "[10, 30]\n"
          ]
        }
      ],
      "source": [
        "my_list = [10, 20, 30]\n",
        "removed = my_list.pop(1)\n",
        "print(removed)\n",
        "print(my_list)"
      ]
    },
    {
      "cell_type": "markdown",
      "metadata": {
        "id": "-ahRFceb1ZQi"
      },
      "source": [
        "#**2.6 index() - Find Index of a Value**\n",
        "Example:"
      ]
    },
    {
      "cell_type": "code",
      "execution_count": null,
      "metadata": {
        "colab": {
          "base_uri": "https://localhost:8080/"
        },
        "id": "lyIEtXDA1cNB",
        "outputId": "5a89575a-e8ca-4568-eaef-bc56619ae174"
      },
      "outputs": [
        {
          "name": "stdout",
          "output_type": "stream",
          "text": [
            "1\n"
          ]
        }
      ],
      "source": [
        "my_list = [5, 10, 15]\n",
        "print(my_list.index(10))"
      ]
    },
    {
      "cell_type": "markdown",
      "metadata": {
        "id": "ykJcwzhG1kf-"
      },
      "source": [
        "#**2.7 count() - Count Occurrences of an Element**\n"
      ]
    },
    {
      "cell_type": "code",
      "execution_count": null,
      "metadata": {
        "colab": {
          "base_uri": "https://localhost:8080/"
        },
        "id": "cmqw_OyR1nzY",
        "outputId": "594be966-d66d-45b5-9708-46b35e1eacb0"
      },
      "outputs": [
        {
          "name": "stdout",
          "output_type": "stream",
          "text": [
            "2\n"
          ]
        }
      ],
      "source": [
        "my_list = [1, 2, 2, 3]\n",
        "print(my_list.count(2))"
      ]
    },
    {
      "cell_type": "markdown",
      "metadata": {
        "id": "qwjsN-Dh1r45"
      },
      "source": [
        "#**2.8 reverse() - Reverse the List (In-Place)**\n",
        "Example"
      ]
    },
    {
      "cell_type": "code",
      "execution_count": null,
      "metadata": {
        "colab": {
          "base_uri": "https://localhost:8080/"
        },
        "id": "LtMYtIvj1yOK",
        "outputId": "e0859b7c-6fdd-4fa4-b92f-0da987046ae5"
      },
      "outputs": [
        {
          "name": "stdout",
          "output_type": "stream",
          "text": [
            "[3, 2, 1]\n"
          ]
        }
      ],
      "source": [
        "my_list = [1, 2, 3]\n",
        "my_list.reverse()\n",
        "print(my_list)"
      ]
    },
    {
      "cell_type": "markdown",
      "metadata": {
        "id": "7JXkvzky16L2"
      },
      "source": [
        "#**2.9 sort() - Sort the List (In-Place)**\n",
        "Example:\n"
      ]
    },
    {
      "cell_type": "code",
      "execution_count": null,
      "metadata": {
        "colab": {
          "base_uri": "https://localhost:8080/"
        },
        "id": "WpCCgp-s1-WG",
        "outputId": "06a2ffe5-6bfe-4e86-a04d-b2bab7016216"
      },
      "outputs": [
        {
          "name": "stdout",
          "output_type": "stream",
          "text": [
            "[1, 2, 4, 8]\n"
          ]
        }
      ],
      "source": [
        "nums = [4, 2, 8, 1]\n",
        "nums.sort()\n",
        "print(nums)"
      ]
    },
    {
      "cell_type": "markdown",
      "metadata": {
        "id": "w6VOEQt_2FSC"
      },
      "source": [
        "#**3. Tuple-Specific Methods (tuple)**\n",
        "Tuples are immutable, so they have fewer methods.\n",
        "\n",
        "#**3.1 index() - Find Index of a Value**\n",
        "Example:\n"
      ]
    },
    {
      "cell_type": "code",
      "execution_count": null,
      "metadata": {
        "colab": {
          "base_uri": "https://localhost:8080/"
        },
        "id": "ChMoJRaK2NcZ",
        "outputId": "ee95979c-1d16-4552-9565-c390f2d0c430"
      },
      "outputs": [
        {
          "name": "stdout",
          "output_type": "stream",
          "text": [
            "1\n"
          ]
        }
      ],
      "source": [
        "my_tuple = (5, 10, 15)\n",
        "print(my_tuple.index(10))"
      ]
    },
    {
      "cell_type": "markdown",
      "metadata": {
        "id": "E5WtTLTk2UJK"
      },
      "source": [
        "#**3.2 count() - Count Occurrences of an Element**\n",
        "Example:\n"
      ]
    },
    {
      "cell_type": "code",
      "execution_count": null,
      "metadata": {
        "colab": {
          "base_uri": "https://localhost:8080/"
        },
        "id": "2rxo5JIK2Xs4",
        "outputId": "7c5d9667-65a2-40ce-ea0b-60796f9dd080"
      },
      "outputs": [
        {
          "name": "stdout",
          "output_type": "stream",
          "text": [
            "2\n"
          ]
        }
      ],
      "source": [
        "my_tuple = (1, 2, 2, 3)\n",
        "print(my_tuple.count(2))"
      ]
    },
    {
      "cell_type": "markdown",
      "metadata": {
        "id": "5zrem3dn2t3D"
      },
      "source": [
        "#**4. String-Specific Methods (str)**\n",
        "Strings are also immutable, but they have many built-in methods.\n",
        "\n",
        "#**4.1 upper() / lower() - Convert Case**\n",
        "Example:\n"
      ]
    },
    {
      "cell_type": "code",
      "execution_count": null,
      "metadata": {
        "colab": {
          "base_uri": "https://localhost:8080/"
        },
        "id": "Sl9BtIYv29XO",
        "outputId": "bb1fd68a-6566-4a70-c175-e0739f9d6577"
      },
      "outputs": [
        {
          "name": "stdout",
          "output_type": "stream",
          "text": [
            "HELLO\n",
            "hello\n"
          ]
        }
      ],
      "source": [
        "text = \"Hello\"\n",
        "print(text.upper())\n",
        "print(text.lower())"
      ]
    },
    {
      "cell_type": "markdown",
      "metadata": {
        "id": "D5U7Xfk83H2z"
      },
      "source": [
        "#**4.2 strip() - Remove Whitespace**\n",
        "Example:"
      ]
    },
    {
      "cell_type": "code",
      "execution_count": null,
      "metadata": {
        "colab": {
          "base_uri": "https://localhost:8080/"
        },
        "id": "fIfvuUCa3MFJ",
        "outputId": "75d249f7-b788-4891-acc7-6d19cfc35a89"
      },
      "outputs": [
        {
          "name": "stdout",
          "output_type": "stream",
          "text": [
            "hello\n"
          ]
        }
      ],
      "source": [
        "text = \"  hello  \"\n",
        "print(text.strip())"
      ]
    },
    {
      "cell_type": "markdown",
      "metadata": {
        "id": "RWygtYjr7XIp"
      },
      "source": [
        "#**4.3 replace() - Replace Substring**\n",
        "Example:"
      ]
    },
    {
      "cell_type": "code",
      "execution_count": null,
      "metadata": {
        "colab": {
          "base_uri": "https://localhost:8080/"
        },
        "id": "5cRBSgTf7k2F",
        "outputId": "0dffbabf-6bc6-4001-c618-9a97e8e23c20"
      },
      "outputs": [
        {
          "name": "stdout",
          "output_type": "stream",
          "text": [
            "I like Python\n"
          ]
        }
      ],
      "source": [
        "text = \"I love Python\"\n",
        "print(text.replace(\"love\", \"like\"))"
      ]
    },
    {
      "cell_type": "markdown",
      "metadata": {
        "id": "IeK0kQnb7smd"
      },
      "source": [
        "#**4.4 split() - Convert String to List**\n",
        "Example:"
      ]
    },
    {
      "cell_type": "code",
      "execution_count": null,
      "metadata": {
        "colab": {
          "base_uri": "https://localhost:8080/"
        },
        "id": "txxPR_Hh8GL1",
        "outputId": "71b48c50-df23-4ad7-b66f-10b86d1ae6c4"
      },
      "outputs": [
        {
          "name": "stdout",
          "output_type": "stream",
          "text": [
            "['apple', 'banana', 'grape']\n"
          ]
        }
      ],
      "source": [
        "text = \"apple,banana,grape\"\n",
        "print(text.split(\",\"))"
      ]
    },
    {
      "cell_type": "markdown",
      "metadata": {
        "id": "BbUWTWvi8SWV"
      },
      "source": [
        "#**4.5 join() - Convert List to String**\n",
        "Example:"
      ]
    },
    {
      "cell_type": "code",
      "execution_count": null,
      "metadata": {
        "colab": {
          "base_uri": "https://localhost:8080/"
        },
        "id": "eGNJBHUJ8XTC",
        "outputId": "26816fc0-7c11-4b90-ce83-c5635718f81f"
      },
      "outputs": [
        {
          "name": "stdout",
          "output_type": "stream",
          "text": [
            "Hello World\n"
          ]
        }
      ],
      "source": [
        "words = ['Hello', 'World']\n",
        "print(\" \".join(words))"
      ]
    },
    {
      "cell_type": "markdown",
      "metadata": {
        "id": "Htu9NWeE8pN5"
      },
      "source": [
        "#**5. Range-Specific Methods (range)**\n",
        "The range type is immutable and has limited methods.\n",
        "\n",
        "5.1 start, stop, step (Properties)\n",
        "Example:"
      ]
    },
    {
      "cell_type": "code",
      "execution_count": null,
      "metadata": {
        "colab": {
          "base_uri": "https://localhost:8080/"
        },
        "id": "hzYtuf2l8xoM",
        "outputId": "4f0fde9c-71fa-4407-8747-435c572bf89e"
      },
      "outputs": [
        {
          "name": "stdout",
          "output_type": "stream",
          "text": [
            "1\n",
            "10\n",
            "2\n"
          ]
        }
      ],
      "source": [
        "r = range(1, 10, 2)\n",
        "print(r.start)\n",
        "print(r.stop)\n",
        "print(r.step)"
      ]
    },
    {
      "cell_type": "markdown",
      "metadata": {
        "id": "bhOsGIKc93-u"
      },
      "source": [
        "#**Boolean (bool) Methods in Python**\n",
        "The bool type in Python doesn't have many specific methods since it's a subclass of int. However, it supports logical operations and type conversion.\n",
        "\n",
        "#**1. bool() (Constructor)**\n",
        "Converts a value to a boolean (True or False).\n",
        "Example:"
      ]
    },
    {
      "cell_type": "code",
      "execution_count": null,
      "metadata": {
        "colab": {
          "base_uri": "https://localhost:8080/"
        },
        "id": "yBikAZdF99_L",
        "outputId": "e06f87b0-1f39-44bf-fb11-d94c65a7ea24"
      },
      "outputs": [
        {
          "name": "stdout",
          "output_type": "stream",
          "text": [
            "True\n",
            "False\n",
            "False\n",
            "True\n"
          ]
        }
      ],
      "source": [
        "print(bool(1))\n",
        "print(bool(0))\n",
        "print(bool(\"\"))\n",
        "print(bool(\"Hello\"))\n"
      ]
    },
    {
      "cell_type": "markdown",
      "metadata": {
        "id": "buVbMDxX-Nmb"
      },
      "source": [
        "#**2. Logical Operations (and, or, not)**\n",
        "Used for boolean logic.\n",
        "Example:"
      ]
    },
    {
      "cell_type": "code",
      "execution_count": null,
      "metadata": {
        "colab": {
          "base_uri": "https://localhost:8080/"
        },
        "id": "Dd5HWSBF-SLn",
        "outputId": "35e0b4a4-7f2f-4867-948c-73fc30930ef8"
      },
      "outputs": [
        {
          "name": "stdout",
          "output_type": "stream",
          "text": [
            "False\n",
            "True\n",
            "False\n"
          ]
        }
      ],
      "source": [
        "a = True\n",
        "b = False\n",
        "print(a and b)\n",
        "print(a or b)\n",
        "print(not a)"
      ]
    },
    {
      "cell_type": "markdown",
      "metadata": {
        "id": "Pee8VulOUj7P"
      },
      "source": [
        "#**Mapping Type (dict) Methods**\n",
        "A mapping type in Python refers to a dict, which stores key-value pairs.\n",
        "\n",
        "#**1. dict.keys()**\n",
        "Returns a view object of all the keys in the dictionary.\n",
        "Example"
      ]
    },
    {
      "cell_type": "code",
      "execution_count": null,
      "metadata": {
        "colab": {
          "base_uri": "https://localhost:8080/"
        },
        "id": "aRYL6pNqVtZL",
        "outputId": "ec8a2b4b-4b0d-430b-bc0e-3c56bb31610b"
      },
      "outputs": [
        {
          "name": "stdout",
          "output_type": "stream",
          "text": [
            "dict_keys(['name', 'age'])\n"
          ]
        }
      ],
      "source": [
        "my_dict = {\"name\": \"Alice\", \"age\": 25}\n",
        "print(my_dict.keys())"
      ]
    },
    {
      "cell_type": "markdown",
      "metadata": {
        "id": "O8KBsyNdWjwc"
      },
      "source": [
        "#**2. dict.values()**\n",
        "Returns a view object of all the values in the dictionary.\n",
        "Example:"
      ]
    },
    {
      "cell_type": "code",
      "execution_count": null,
      "metadata": {
        "colab": {
          "base_uri": "https://localhost:8080/"
        },
        "id": "JMvB3T5YWsmG",
        "outputId": "8e0e8e6a-599c-47f4-99e6-31153215bc1c"
      },
      "outputs": [
        {
          "name": "stdout",
          "output_type": "stream",
          "text": [
            "dict_values(['Alice', 25])\n"
          ]
        }
      ],
      "source": [
        "print(my_dict.values())\n"
      ]
    },
    {
      "cell_type": "markdown",
      "metadata": {
        "id": "SKynXz3gW11T"
      },
      "source": [
        "#**3. dict.items()**\n",
        "Returns key-value pairs as tuples.\n",
        "Example:"
      ]
    },
    {
      "cell_type": "code",
      "execution_count": null,
      "metadata": {
        "colab": {
          "base_uri": "https://localhost:8080/"
        },
        "id": "X8qnf8-LW5Ne",
        "outputId": "bedf6b66-6d08-4044-b262-238970d574b8"
      },
      "outputs": [
        {
          "name": "stdout",
          "output_type": "stream",
          "text": [
            "dict_items([('name', 'Alice'), ('age', 25)])\n"
          ]
        }
      ],
      "source": [
        "print(my_dict.items())"
      ]
    },
    {
      "cell_type": "markdown",
      "metadata": {
        "id": "gACubT81XB2g"
      },
      "source": [
        "#**4. dict.get(key, default)**\n",
        "Returns the value for a given key; returns default if the key is not found.\n",
        "Example"
      ]
    },
    {
      "cell_type": "code",
      "execution_count": null,
      "metadata": {
        "colab": {
          "base_uri": "https://localhost:8080/"
        },
        "id": "2wCF4uAGXFp4",
        "outputId": "2b8bf414-977d-4729-e77c-39e77278db4d"
      },
      "outputs": [
        {
          "name": "stdout",
          "output_type": "stream",
          "text": [
            "Alice\n",
            "Not Found\n"
          ]
        }
      ],
      "source": [
        "print(my_dict.get(\"name\"))\n",
        "print(my_dict.get(\"gender\", \"Not Found\"))"
      ]
    },
    {
      "cell_type": "markdown",
      "metadata": {
        "id": "YGqz61ZkXVkD"
      },
      "source": [
        "#**5. dict.update()**\n",
        "Updates a dictionary with another dictionary or key-value pairs.\n",
        "Example:\n"
      ]
    },
    {
      "cell_type": "code",
      "execution_count": null,
      "metadata": {
        "colab": {
          "base_uri": "https://localhost:8080/"
        },
        "id": "m5qGC4YJXZGh",
        "outputId": "f95030fa-a056-470b-ef66-fe82e4a8b045"
      },
      "outputs": [
        {
          "name": "stdout",
          "output_type": "stream",
          "text": [
            "{'name': 'Alice', 'age': 25, 'city': 'New York'}\n"
          ]
        }
      ],
      "source": [
        "my_dict.update({\"city\": \"New York\"})\n",
        "print(my_dict)"
      ]
    },
    {
      "cell_type": "markdown",
      "metadata": {
        "id": "VJQyn2iDYHVl"
      },
      "source": [
        "#**6. dict.pop(key, default)**\n",
        "Removes a key from the dictionary and returns its value.\n",
        "Example:"
      ]
    },
    {
      "cell_type": "code",
      "execution_count": null,
      "metadata": {
        "colab": {
          "base_uri": "https://localhost:8080/"
        },
        "id": "2_p9HHfWYK62",
        "outputId": "cd3d686b-0946-4116-a8ef-0cd5b6cdf082"
      },
      "outputs": [
        {
          "name": "stdout",
          "output_type": "stream",
          "text": [
            "25\n",
            "{'name': 'Alice', 'city': 'New York'}\n"
          ]
        }
      ],
      "source": [
        "age = my_dict.pop(\"age\")\n",
        "print(age)\n",
        "print(my_dict)"
      ]
    },
    {
      "cell_type": "markdown",
      "metadata": {
        "id": "iaeyPpGAYjV8"
      },
      "source": [
        "#**7. dict.popitem()**\n",
        "Removes and returns the last inserted key-value pair.\n",
        "Example"
      ]
    },
    {
      "cell_type": "code",
      "execution_count": null,
      "metadata": {
        "colab": {
          "base_uri": "https://localhost:8080/"
        },
        "id": "-lc0ogjEYmdO",
        "outputId": "e38e8f4b-3d34-4917-c384-b96044f4d212"
      },
      "outputs": [
        {
          "name": "stdout",
          "output_type": "stream",
          "text": [
            "('city', 'New York')\n"
          ]
        }
      ],
      "source": [
        "item = my_dict.popitem()\n",
        "print(item)"
      ]
    },
    {
      "cell_type": "markdown",
      "metadata": {
        "id": "HTwaxzU3Y7OD"
      },
      "source": [
        "#**8. dict.clear()**\n",
        "Removes all items from the dictionary.\n",
        "Example"
      ]
    },
    {
      "cell_type": "code",
      "execution_count": null,
      "metadata": {
        "colab": {
          "base_uri": "https://localhost:8080/"
        },
        "id": "RT5L5hkqY_d5",
        "outputId": "58cfeebc-0bfb-4d92-a189-dba31c633d96"
      },
      "outputs": [
        {
          "name": "stdout",
          "output_type": "stream",
          "text": [
            "{}\n"
          ]
        }
      ],
      "source": [
        "my_dict.clear()\n",
        "print(my_dict)"
      ]
    },
    {
      "cell_type": "markdown",
      "metadata": {
        "id": "NdkVrU12ZJ9p"
      },
      "source": [
        "#**Set Methods**\n",
        "A set is an unordered collection of unique elements.\n",
        "\n",
        "#**1. set.add()**\n",
        "Adds an element to the set.\n",
        "Example:\n",
        "\n"
      ]
    },
    {
      "cell_type": "code",
      "execution_count": null,
      "metadata": {
        "colab": {
          "base_uri": "https://localhost:8080/"
        },
        "id": "5oeocK9NZVyT",
        "outputId": "99080950-997f-41d4-e2db-98007dcc0aea"
      },
      "outputs": [
        {
          "name": "stdout",
          "output_type": "stream",
          "text": [
            "{1, 2, 3, 4}\n"
          ]
        }
      ],
      "source": [
        "my_set = {1, 2, 3}\n",
        "my_set.add(4)\n",
        "print(my_set)"
      ]
    },
    {
      "cell_type": "markdown",
      "metadata": {
        "id": "N1DsBEjJZaUZ"
      },
      "source": [
        "#**2. set.remove()**\n",
        "Removes an element from the set; raises an error if not found.\n",
        "Example"
      ]
    },
    {
      "cell_type": "code",
      "execution_count": null,
      "metadata": {
        "colab": {
          "base_uri": "https://localhost:8080/"
        },
        "id": "E2a9ZPg2Zizg",
        "outputId": "44516935-8ae2-4999-9ef4-70b93f91f68a"
      },
      "outputs": [
        {
          "name": "stdout",
          "output_type": "stream",
          "text": [
            "{1, 3, 4}\n"
          ]
        }
      ],
      "source": [
        "my_set.remove(2)\n",
        "print(my_set)"
      ]
    },
    {
      "cell_type": "markdown",
      "metadata": {
        "id": "3QngPJyaZnDV"
      },
      "source": [
        "#**3. set.discard()**\n",
        "Removes an element, but does not raise an error if it’s not found.\n",
        "Example:"
      ]
    },
    {
      "cell_type": "code",
      "execution_count": null,
      "metadata": {
        "id": "t36ehRbSZsU7"
      },
      "outputs": [],
      "source": [
        "my_set.discard(5)"
      ]
    },
    {
      "cell_type": "markdown",
      "metadata": {
        "id": "qJkeXC71Zx1K"
      },
      "source": [
        "#**4. set.pop()**\n",
        "Removes and returns a random element.\n",
        "Example:"
      ]
    },
    {
      "cell_type": "code",
      "execution_count": null,
      "metadata": {
        "colab": {
          "base_uri": "https://localhost:8080/"
        },
        "id": "7e90ou-XZ4Q9",
        "outputId": "2c66e1c9-9657-4387-a41d-a7a9e46f1689"
      },
      "outputs": [
        {
          "name": "stdout",
          "output_type": "stream",
          "text": [
            "1\n"
          ]
        }
      ],
      "source": [
        "item = my_set.pop()\n",
        "print(item)"
      ]
    },
    {
      "cell_type": "markdown",
      "metadata": {
        "id": "1-UcPRWFZ8qd"
      },
      "source": [
        "#**5. set.clear()**\n",
        "Removes all elements from the set.\n",
        "Example:\n"
      ]
    },
    {
      "cell_type": "code",
      "execution_count": null,
      "metadata": {
        "colab": {
          "base_uri": "https://localhost:8080/"
        },
        "id": "qDrfDlZ6aEwv",
        "outputId": "ef3ff315-a54a-4485-dbc6-ae2dc269be14"
      },
      "outputs": [
        {
          "name": "stdout",
          "output_type": "stream",
          "text": [
            "set()\n"
          ]
        }
      ],
      "source": [
        "my_set.clear()\n",
        "print(my_set)"
      ]
    },
    {
      "cell_type": "markdown",
      "metadata": {
        "id": "D9J8MRpEaLGB"
      },
      "source": [
        "#**6. set.union()**\n",
        "Returns a new set with elements from both sets.\n",
        "Example:"
      ]
    },
    {
      "cell_type": "code",
      "execution_count": null,
      "metadata": {
        "colab": {
          "base_uri": "https://localhost:8080/"
        },
        "id": "Uosjn4kkaNpj",
        "outputId": "bac080e4-8686-4b45-aca3-7cb3bfdde71b"
      },
      "outputs": [
        {
          "name": "stdout",
          "output_type": "stream",
          "text": [
            "{1, 2, 3, 4, 5}\n"
          ]
        }
      ],
      "source": [
        "set1 = {1, 2, 3}\n",
        "set2 = {3, 4, 5}\n",
        "print(set1.union(set2))"
      ]
    },
    {
      "cell_type": "markdown",
      "metadata": {
        "id": "_ja1OOMBaSZJ"
      },
      "source": [
        "#**7. set.intersection()**\n",
        "Returns a set with common elements.\n",
        "Example:"
      ]
    },
    {
      "cell_type": "code",
      "execution_count": null,
      "metadata": {
        "colab": {
          "base_uri": "https://localhost:8080/"
        },
        "id": "25pjWzRBaXz-",
        "outputId": "01741eb7-dd6c-4d11-8c3a-76081c6e73da"
      },
      "outputs": [
        {
          "name": "stdout",
          "output_type": "stream",
          "text": [
            "{3}\n"
          ]
        }
      ],
      "source": [
        "print(set1.intersection(set2))"
      ]
    },
    {
      "cell_type": "markdown",
      "metadata": {
        "id": "lZcvmiMVabSV"
      },
      "source": [
        "#**8. set.difference()**\n",
        "Returns elements present in the first set but not in the second.\n",
        "Example:\n"
      ]
    },
    {
      "cell_type": "code",
      "execution_count": null,
      "metadata": {
        "colab": {
          "base_uri": "https://localhost:8080/"
        },
        "id": "7kJFXknBajGt",
        "outputId": "72d4527b-19a9-48a5-d235-c65cd802612b"
      },
      "outputs": [
        {
          "name": "stdout",
          "output_type": "stream",
          "text": [
            "{1, 2}\n"
          ]
        }
      ],
      "source": [
        "print(set1.difference(set2))"
      ]
    },
    {
      "cell_type": "markdown",
      "metadata": {
        "id": "8opdf08MangZ"
      },
      "source": [
        "#**9. set.symmetric_difference()**\n",
        "Returns elements that are in either of the sets but not in both.\n",
        "Example:"
      ]
    },
    {
      "cell_type": "code",
      "execution_count": null,
      "metadata": {
        "colab": {
          "base_uri": "https://localhost:8080/"
        },
        "id": "ZMH_VdeFatDS",
        "outputId": "03fa93b1-d72c-4caf-8e1e-c163cfb3ae65"
      },
      "outputs": [
        {
          "name": "stdout",
          "output_type": "stream",
          "text": [
            "{1, 2, 4, 5}\n"
          ]
        }
      ],
      "source": [
        "print(set1.symmetric_difference(set2))"
      ]
    },
    {
      "cell_type": "markdown",
      "metadata": {
        "id": "xsQ8jfARazO1"
      },
      "source": [
        "#**10. set.issubset()**\n",
        "Checks if one set is a subset of another.\n",
        "Example:"
      ]
    },
    {
      "cell_type": "code",
      "execution_count": null,
      "metadata": {
        "colab": {
          "base_uri": "https://localhost:8080/"
        },
        "id": "m-WgG58Da2oh",
        "outputId": "3cf9115a-e664-4062-bfef-7b865920beef"
      },
      "outputs": [
        {
          "name": "stdout",
          "output_type": "stream",
          "text": [
            "True\n"
          ]
        }
      ],
      "source": [
        "print({1, 2}.issubset(set1))"
      ]
    },
    {
      "cell_type": "markdown",
      "metadata": {
        "id": "r4cm7JTua7Ee"
      },
      "source": [
        "#**11. set.issuperset()**\n",
        "Checks if one set is a superset of another.\n",
        "Example:"
      ]
    },
    {
      "cell_type": "code",
      "execution_count": null,
      "metadata": {
        "colab": {
          "base_uri": "https://localhost:8080/"
        },
        "id": "6wNCZlhYbAi1",
        "outputId": "4f44573e-afae-4839-cb74-d4336ac8e77b"
      },
      "outputs": [
        {
          "name": "stdout",
          "output_type": "stream",
          "text": [
            "True\n"
          ]
        }
      ],
      "source": [
        "print(set1.issuperset({1, 2}))"
      ]
    },
    {
      "cell_type": "markdown",
      "metadata": {
        "id": "ARhX-WcRbEZc"
      },
      "source": [
        "#**12. set.isdisjoint()**\n",
        "Returns True if two sets have no common elements.\n",
        "Example:\n"
      ]
    },
    {
      "cell_type": "code",
      "execution_count": null,
      "metadata": {
        "colab": {
          "base_uri": "https://localhost:8080/"
        },
        "id": "tFa6-0rIbKim",
        "outputId": "80d0ca8d-95f4-45c4-eacc-0de2bfa46ab3"
      },
      "outputs": [
        {
          "name": "stdout",
          "output_type": "stream",
          "text": [
            "True\n"
          ]
        }
      ],
      "source": [
        "set3 = {6, 7, 8}\n",
        "print(set1.isdisjoint(set3))"
      ]
    }
  ],
  "metadata": {
    "colab": {
      "provenance": []
    },
    "kernelspec": {
      "display_name": "Python 3",
      "name": "python3"
    },
    "language_info": {
      "name": "python"
    }
  },
  "nbformat": 4,
  "nbformat_minor": 0
}
